{
 "cells": [
  {
   "cell_type": "markdown",
   "metadata": {},
   "source": [
    "# Part 1: Data Management."
   ]
  },
  {
   "cell_type": "code",
   "execution_count": 2,
   "metadata": {},
   "outputs": [],
   "source": [
    "import json\n",
    "import pandas as pd\n",
    "import numpy as np\n",
    "tip_path = \"/Users/Andy/Desktop/yelp_academic_dataset_tip.json\"\n",
    "\n",
    "    ##\"C:\\\\Users\\\\Andy\\\\Desktop\\\\datasets\\\\yelp_academic_dataset_tip.json\"\n",
    "\n"
   ]
  },
  {
   "cell_type": "markdown",
   "metadata": {},
   "source": [
    "## Q1: How many entries of tips are there in yelp_academic_dataset_tip.json?"
   ]
  },
  {
   "cell_type": "code",
   "execution_count": 3,
   "metadata": {},
   "outputs": [
    {
     "name": "stdout",
     "output_type": "stream",
     "text": [
      "Q1:\t 1320761\n"
     ]
    }
   ],
   "source": [
    "#TODO\n",
    "tip_doc=open(tip_path, encoding=\"utf8\").readlines()\n",
    "\n",
    "tip_size = len(tip_doc)\n",
    "\n",
    "print(\"Q1:\\t\", tip_size)"
   ]
  },
  {
   "cell_type": "markdown",
   "metadata": {},
   "source": [
    "## Q2: How many tips have the maximum length of text among all tips?"
   ]
  },
  {
   "cell_type": "code",
   "execution_count": 4,
   "metadata": {},
   "outputs": [
    {
     "name": "stdout",
     "output_type": "stream",
     "text": [
      "Q2:\t 533\n"
     ]
    }
   ],
   "source": [
    "#TODO\n",
    "textCount = []\n",
    "rawUserLog = []\n",
    "\n",
    "lisTip=[]\n",
    "\n",
    "\n",
    "for tip in tip_doc:\n",
    "    lisTip.append(json.loads(tip))\n",
    "    ######Q2\n",
    "    tipGrab = json.loads(tip)\n",
    "    textCount.append(len(tipGrab[\"text\"]))\n",
    "\n",
    "    ######Q3\n",
    "    rawUserLog.append(tipGrab[\"user_id\"])\n",
    "\n",
    "dfTip = pd.DataFrame.from_records(lisTip)\n",
    "\n",
    "maxChar = max(textCount)\n",
    "\n",
    "#print(maxChar)\n",
    "wordy = 0\n",
    "\n",
    "for tip in textCount:\n",
    "    if tip == maxChar:\n",
    "        wordy += 1\n",
    "\n",
    "\n",
    "print(\"Q2:\\t\", wordy)"
   ]
  },
  {
   "cell_type": "markdown",
   "metadata": {},
   "source": [
    "## Q3: We say that a user is \"outstanding\" if it makes the number of tips six standard-derivations more than an average user. (That is, #tips from a user >= average #tips of all users + 6*std of #tips of all users). How many outstanding users are there?"
   ]
  },
  {
   "cell_type": "code",
   "execution_count": 5,
   "metadata": {},
   "outputs": [
    {
     "name": "stdout",
     "output_type": "stream",
     "text": [
      "Q3:\t 1110\n"
     ]
    }
   ],
   "source": [
    "tipByUser = pd.DataFrame(rawUserLog, columns=['userID'])\n",
    "\n",
    "counts = tipByUser['userID'].value_counts().values\n",
    "average = sum(counts)/len(counts)\n",
    "sDev = np.std(counts)\n",
    "\n",
    "key = 6*sDev\n",
    "\n",
    "superList = counts > key\n",
    "\n",
    "superUsers = superList.sum()\n",
    "\n",
    "#TODO\n",
    "print(\"Q3:\\t\", superUsers)"
   ]
  },
  {
   "cell_type": "markdown",
   "metadata": {},
   "source": [
    "## Q4:  What is the name of the location with the most number of tips? (Hint: you may need to join multiple JSON files using pandas)"
   ]
  },
  {
   "cell_type": "code",
   "execution_count": null,
   "metadata": {
    "pycharm": {
     "is_executing": true
    }
   },
   "outputs": [],
   "source": [
    "business_path = \"/Users/Andy/Desktop/yelp_academic_dataset_business.json\"\n",
    "business_doc=open(business_path, encoding=\"utf8\").readlines()\n",
    "\n",
    "busList = []\n",
    "for bus in business_doc:\n",
    "    busList.append(json.loads(bus))\n",
    "    \n",
    "dfBus = pd.DataFrame.from_records(busList)\n",
    "    \n",
    "dfcomb = pd.merge(dfBus, dfTip, on='business_id', how='outer')\n",
    "\n",
    "tipsbyLocation = dfcomb.groupby(\"business_id\").size()\n",
    "\n",
    "print(tipsbyLocation)\n",
    "\n",
    "print(tipsbyLocation.max())\n",
    "\n",
    "\n",
    "ans = dfcomb[dfcomb['num']==max(dfcomb['num'])]\n",
    "\n",
    "print(ans)\n",
    "\n",
    "#TODO\n",
    "print(\"Q4:\\t\", \"name\")"
   ]
  },
  {
   "cell_type": "markdown",
   "metadata": {},
   "source": [
    "## Q5: In the above location, which hour has the least number of tips submitted? (Hint: the answer should be an integer from [0, 23])"
   ]
  },
  {
   "cell_type": "code",
   "execution_count": 7,
   "metadata": {},
   "outputs": [
    {
     "name": "stdout",
     "output_type": "stream",
     "text": [
      "Q5:\t 0\n"
     ]
    }
   ],
   "source": [
    "#TODO\n",
    "print(\"Q5:\\t\", 0)"
   ]
  }
 ],
 "metadata": {
  "kernelspec": {
   "display_name": "Python 3",
   "language": "python",
   "name": "python3"
  },
  "language_info": {
   "codemirror_mode": {
    "name": "ipython",
    "version": 3
   },
   "file_extension": ".py",
   "mimetype": "text/x-python",
   "name": "python",
   "nbconvert_exporter": "python",
   "pygments_lexer": "ipython3",
   "version": "3.8.3"
  }
 },
 "nbformat": 4,
 "nbformat_minor": 4
}