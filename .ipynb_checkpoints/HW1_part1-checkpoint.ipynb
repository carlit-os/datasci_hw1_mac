{
 "cells": [
  {
   "cell_type": "markdown",
   "metadata": {},
   "source": [
    "# Part 1: Data Management."
   ]
  },
  {
   "cell_type": "code",
   "execution_count": 1,
   "metadata": {},
   "outputs": [],
   "source": [
    "import json\n",
    "import pandas as pd\n",
    "path = \"C:\\\\Users\\\\sidha\\\\Desktop\\\\yelp_dataset_folder\\\\yelp_academic_dataset_tip.json\""
   ]
  },
  {
   "cell_type": "markdown",
   "metadata": {},
   "source": [
    "## Q1: How many entries of tips are there in yelp_academic_dataset_tip.json?"
   ]
  },
  {
   "cell_type": "code",
   "execution_count": 2,
   "metadata": {},
   "outputs": [
    {
     "name": "stdout",
     "output_type": "stream",
     "text": [
      "Q1:\t 0\n"
     ]
    }
   ],
   "source": [
    "#TODO\n",
    "print(\"Q1:\\t\", 0)"
   ]
  },
  {
   "cell_type": "markdown",
   "metadata": {},
   "source": [
    "## Q2: How many tips have the maximum length of text among all tips?"
   ]
  },
  {
   "cell_type": "code",
   "execution_count": 3,
   "metadata": {},
   "outputs": [
    {
     "name": "stdout",
     "output_type": "stream",
     "text": [
      "Q2:\t 0\n"
     ]
    }
   ],
   "source": [
    "#TODO\n",
    "print(\"Q2:\\t\", 0)"
   ]
  },
  {
   "cell_type": "markdown",
   "metadata": {},
   "source": [
    "## Q3: We say that a user is \"outstanding\" if it makes the number of tips six standard-derivations more than an average user. (That is, #tips from a user >= average #tips of all users + 6*std of #tips of all users). How many outstanding users are there?"
   ]
  },
  {
   "cell_type": "code",
   "execution_count": 4,
   "metadata": {},
   "outputs": [
    {
     "name": "stdout",
     "output_type": "stream",
     "text": [
      "Q3:\t 0\n"
     ]
    }
   ],
   "source": [
    "#TODO\n",
    "print(\"Q3:\\t\", 0)"
   ]
  },
  {
   "cell_type": "markdown",
   "metadata": {},
   "source": [
    "## Q4:  What is the name of the location with the most number of tips? (Hint: you may need to join multiple JSON files using pandas)"
   ]
  },
  {
   "cell_type": "code",
   "execution_count": 5,
   "metadata": {},
   "outputs": [
    {
     "name": "stdout",
     "output_type": "stream",
     "text": [
      "Q4:\t name\n"
     ]
    }
   ],
   "source": [
    "#TODO\n",
    "print(\"Q4:\\t\", \"name\")"
   ]
  },
  {
   "cell_type": "markdown",
   "metadata": {},
   "source": [
    "## Q5: In the above location, which hour has the least number of tips submitted? (Hint: the answer should be an integer from [0, 23])"
   ]
  },
  {
   "cell_type": "code",
   "execution_count": 6,
   "metadata": {},
   "outputs": [
    {
     "name": "stdout",
     "output_type": "stream",
     "text": [
      "Q5:\t 0\n"
     ]
    }
   ],
   "source": [
    "#TODO\n",
    "print(\"Q5:\\t\", 0)"
   ]
  }
 ],
 "metadata": {
  "kernelspec": {
   "display_name": "Python 3",
   "language": "python",
   "name": "python3"
  },
  "language_info": {
   "codemirror_mode": {
    "name": "ipython",
    "version": 3
   },
   "file_extension": ".py",
   "mimetype": "text/x-python",
   "name": "python",
   "nbconvert_exporter": "python",
   "pygments_lexer": "ipython3",
   "version": "3.8.3"
  }
 },
 "nbformat": 4,
 "nbformat_minor": 4
}
